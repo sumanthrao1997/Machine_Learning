{
  "nbformat": 4,
  "nbformat_minor": 0,
  "metadata": {
    "colab": {
      "name": "warmup_exercises.ipynb",
      "provenance": []
    },
    "kernelspec": {
      "name": "python385jvsc74a57bd035d7a98c136b8b9268402a1afebaaca2223c462119f1144531d2bf589eaab99a",
      "display_name": "Python 3.8.5 64-bit ('base': conda)"
    },
    "metadata": {
      "interpreter": {
        "hash": "35d7a98c136b8b9268402a1afebaaca2223c462119f1144531d2bf589eaab99a"
      }
    }
  },
  "cells": [
    {
      "cell_type": "markdown",
      "metadata": {
        "id": "KxaQLsqY58xV"
      },
      "source": [
        "**Exercise 1 - Data cleaning**\n",
        "\n",
        "---\n",
        "\n",
        "This first exercise will be about data preparation and cleaning. In this exercise we will work with tabular data, work with some basic preprocessing and data cleaning operations."
      ]
    },
    {
      "source": [
        "**1.1 Data preparation \\[5\\]**\n",
        "\n",
        "---"
      ],
      "cell_type": "markdown",
      "metadata": {}
    },
    {
      "source": [
        "# import libraries used during this exercise\n",
        "import pandas as pd\n",
        "import numpy as np\n",
        "import data_cleaning as func\n"
      ],
      "cell_type": "code",
      "metadata": {
        "id": "seTbUykX_daF"
      },
      "execution_count": 26,
      "outputs": []
    },
    {
      "source": [
        "In this exercise we will work with a meteorite landings data provided by NASA (available [here](https://www.kaggle.com/nasa/meteorite-landings)). This dataset contains information about the landing geodesic position, mass, type, class, year, etc."
      ],
      "cell_type": "markdown",
      "metadata": {}
    },
    {
      "cell_type": "code",
      "execution_count": 27,
      "metadata": {},
      "outputs": [
        {
          "output_type": "execute_result",
          "data": {
            "text/plain": [
              "             name     id nametype              recclass      mass   fall  \\\n",
              "0          Aachen      1    Valid                    L5      21.0   Fell   \n",
              "1          Aarhus      2    Valid                    H6     720.0   Fell   \n",
              "2            Abee      6    Valid                   EH4  107000.0   Fell   \n",
              "3        Acapulco     10    Valid           Acapulcoite    1914.0   Fell   \n",
              "4         Achiras    370    Valid                    L6     780.0   Fell   \n",
              "...           ...    ...      ...                   ...       ...    ...   \n",
              "45711  Zillah 002  31356    Valid               Eucrite     172.0  Found   \n",
              "45712      Zinder  30409    Valid  Pallasite, ungrouped      46.0  Found   \n",
              "45713        Zlin  30410    Valid                    H4       3.3  Found   \n",
              "45714   Zubkovsky  31357    Valid                    L6    2167.0  Found   \n",
              "45715  Zulu Queen  30414    Valid                  L3.7     200.0  Found   \n",
              "\n",
              "         year    reclat    reclong               GeoLocation  \n",
              "0      1880.0  50.77500    6.08333     (50.775000, 6.083330)  \n",
              "1      1951.0  56.18333   10.23333    (56.183330, 10.233330)  \n",
              "2      1952.0  54.21667 -113.00000  (54.216670, -113.000000)  \n",
              "3      1976.0  16.88333  -99.90000   (16.883330, -99.900000)  \n",
              "4      1902.0 -33.16667  -64.95000  (-33.166670, -64.950000)  \n",
              "...       ...       ...        ...                       ...  \n",
              "45711  1990.0  29.03700   17.01850    (29.037000, 17.018500)  \n",
              "45712  1999.0  13.78333    8.96667     (13.783330, 8.966670)  \n",
              "45713  1939.0  49.25000   17.66667    (49.250000, 17.666670)  \n",
              "45714  2003.0  49.78917   41.50460    (49.789170, 41.504600)  \n",
              "45715  1976.0  33.98333 -115.68333  (33.983330, -115.683330)  \n",
              "\n",
              "[45716 rows x 10 columns]"
            ],
            "text/html": "<div>\n<style scoped>\n    .dataframe tbody tr th:only-of-type {\n        vertical-align: middle;\n    }\n\n    .dataframe tbody tr th {\n        vertical-align: top;\n    }\n\n    .dataframe thead th {\n        text-align: right;\n    }\n</style>\n<table border=\"1\" class=\"dataframe\">\n  <thead>\n    <tr style=\"text-align: right;\">\n      <th></th>\n      <th>name</th>\n      <th>id</th>\n      <th>nametype</th>\n      <th>recclass</th>\n      <th>mass</th>\n      <th>fall</th>\n      <th>year</th>\n      <th>reclat</th>\n      <th>reclong</th>\n      <th>GeoLocation</th>\n    </tr>\n  </thead>\n  <tbody>\n    <tr>\n      <th>0</th>\n      <td>Aachen</td>\n      <td>1</td>\n      <td>Valid</td>\n      <td>L5</td>\n      <td>21.0</td>\n      <td>Fell</td>\n      <td>1880.0</td>\n      <td>50.77500</td>\n      <td>6.08333</td>\n      <td>(50.775000, 6.083330)</td>\n    </tr>\n    <tr>\n      <th>1</th>\n      <td>Aarhus</td>\n      <td>2</td>\n      <td>Valid</td>\n      <td>H6</td>\n      <td>720.0</td>\n      <td>Fell</td>\n      <td>1951.0</td>\n      <td>56.18333</td>\n      <td>10.23333</td>\n      <td>(56.183330, 10.233330)</td>\n    </tr>\n    <tr>\n      <th>2</th>\n      <td>Abee</td>\n      <td>6</td>\n      <td>Valid</td>\n      <td>EH4</td>\n      <td>107000.0</td>\n      <td>Fell</td>\n      <td>1952.0</td>\n      <td>54.21667</td>\n      <td>-113.00000</td>\n      <td>(54.216670, -113.000000)</td>\n    </tr>\n    <tr>\n      <th>3</th>\n      <td>Acapulco</td>\n      <td>10</td>\n      <td>Valid</td>\n      <td>Acapulcoite</td>\n      <td>1914.0</td>\n      <td>Fell</td>\n      <td>1976.0</td>\n      <td>16.88333</td>\n      <td>-99.90000</td>\n      <td>(16.883330, -99.900000)</td>\n    </tr>\n    <tr>\n      <th>4</th>\n      <td>Achiras</td>\n      <td>370</td>\n      <td>Valid</td>\n      <td>L6</td>\n      <td>780.0</td>\n      <td>Fell</td>\n      <td>1902.0</td>\n      <td>-33.16667</td>\n      <td>-64.95000</td>\n      <td>(-33.166670, -64.950000)</td>\n    </tr>\n    <tr>\n      <th>...</th>\n      <td>...</td>\n      <td>...</td>\n      <td>...</td>\n      <td>...</td>\n      <td>...</td>\n      <td>...</td>\n      <td>...</td>\n      <td>...</td>\n      <td>...</td>\n      <td>...</td>\n    </tr>\n    <tr>\n      <th>45711</th>\n      <td>Zillah 002</td>\n      <td>31356</td>\n      <td>Valid</td>\n      <td>Eucrite</td>\n      <td>172.0</td>\n      <td>Found</td>\n      <td>1990.0</td>\n      <td>29.03700</td>\n      <td>17.01850</td>\n      <td>(29.037000, 17.018500)</td>\n    </tr>\n    <tr>\n      <th>45712</th>\n      <td>Zinder</td>\n      <td>30409</td>\n      <td>Valid</td>\n      <td>Pallasite, ungrouped</td>\n      <td>46.0</td>\n      <td>Found</td>\n      <td>1999.0</td>\n      <td>13.78333</td>\n      <td>8.96667</td>\n      <td>(13.783330, 8.966670)</td>\n    </tr>\n    <tr>\n      <th>45713</th>\n      <td>Zlin</td>\n      <td>30410</td>\n      <td>Valid</td>\n      <td>H4</td>\n      <td>3.3</td>\n      <td>Found</td>\n      <td>1939.0</td>\n      <td>49.25000</td>\n      <td>17.66667</td>\n      <td>(49.250000, 17.666670)</td>\n    </tr>\n    <tr>\n      <th>45714</th>\n      <td>Zubkovsky</td>\n      <td>31357</td>\n      <td>Valid</td>\n      <td>L6</td>\n      <td>2167.0</td>\n      <td>Found</td>\n      <td>2003.0</td>\n      <td>49.78917</td>\n      <td>41.50460</td>\n      <td>(49.789170, 41.504600)</td>\n    </tr>\n    <tr>\n      <th>45715</th>\n      <td>Zulu Queen</td>\n      <td>30414</td>\n      <td>Valid</td>\n      <td>L3.7</td>\n      <td>200.0</td>\n      <td>Found</td>\n      <td>1976.0</td>\n      <td>33.98333</td>\n      <td>-115.68333</td>\n      <td>(33.983330, -115.683330)</td>\n    </tr>\n  </tbody>\n</table>\n<p>45716 rows × 10 columns</p>\n</div>"
          },
          "metadata": {},
          "execution_count": 27
        }
      ],
      "source": [
        "# Dataset read\n",
        "df = pd.read_csv('meteorite-landings.csv')\n",
        "df"
      ]
    },
    {
      "source": [
        "Given this loaded dataframe, your first task will be to prepare this data, and for now you should not remove rows from your data:\n",
        "- Convert all data to numerical\n",
        "- Remove not relevant columns (if any)\n",
        "- Remove redundant data (if any)\n",
        "- Remove non-sense data (if any)\n",
        "\n",
        "In the file *data_cleaning.py* there are some suggested functions to be implemented, feel free to implement the functions differently. (**Note:** for now ignore *NaN* values.)\n"
      ],
      "cell_type": "markdown",
      "metadata": {}
    },
    {
      "cell_type": "code",
      "execution_count": 28,
      "metadata": {
        "tags": []
      },
      "outputs": [
        {
          "output_type": "execute_result",
          "data": {
            "text/plain": [
              "          id  nametype  recclass      mass  fall    year    reclat    reclong\n",
              "0          1       1.0         1      21.0   NaN  1880.0  50.77500    6.08333\n",
              "1          2       1.0         2     720.0   NaN  1951.0  56.18333   10.23333\n",
              "2          6       1.0         3  107000.0   NaN  1952.0  54.21667 -113.00000\n",
              "3         10       1.0         4    1914.0   NaN  1976.0  16.88333  -99.90000\n",
              "4        370       1.0         5     780.0   NaN  1902.0 -33.16667  -64.95000\n",
              "...      ...       ...       ...       ...   ...     ...       ...        ...\n",
              "45711  31356       1.0        43     172.0   2.0  1990.0  29.03700   17.01850\n",
              "45712  30409       1.0       348      46.0   2.0  1999.0  13.78333    8.96667\n",
              "45713  30410       1.0        11       3.3   2.0  1939.0  49.25000   17.66667\n",
              "45714  31357       1.0         5    2167.0   2.0  2003.0  49.78917   41.50460\n",
              "45715  30414       1.0        49     200.0   2.0  1976.0  33.98333 -115.68333\n",
              "\n",
              "[38221 rows x 8 columns]"
            ],
            "text/html": "<div>\n<style scoped>\n    .dataframe tbody tr th:only-of-type {\n        vertical-align: middle;\n    }\n\n    .dataframe tbody tr th {\n        vertical-align: top;\n    }\n\n    .dataframe thead th {\n        text-align: right;\n    }\n</style>\n<table border=\"1\" class=\"dataframe\">\n  <thead>\n    <tr style=\"text-align: right;\">\n      <th></th>\n      <th>id</th>\n      <th>nametype</th>\n      <th>recclass</th>\n      <th>mass</th>\n      <th>fall</th>\n      <th>year</th>\n      <th>reclat</th>\n      <th>reclong</th>\n    </tr>\n  </thead>\n  <tbody>\n    <tr>\n      <th>0</th>\n      <td>1</td>\n      <td>1.0</td>\n      <td>1</td>\n      <td>21.0</td>\n      <td>NaN</td>\n      <td>1880.0</td>\n      <td>50.77500</td>\n      <td>6.08333</td>\n    </tr>\n    <tr>\n      <th>1</th>\n      <td>2</td>\n      <td>1.0</td>\n      <td>2</td>\n      <td>720.0</td>\n      <td>NaN</td>\n      <td>1951.0</td>\n      <td>56.18333</td>\n      <td>10.23333</td>\n    </tr>\n    <tr>\n      <th>2</th>\n      <td>6</td>\n      <td>1.0</td>\n      <td>3</td>\n      <td>107000.0</td>\n      <td>NaN</td>\n      <td>1952.0</td>\n      <td>54.21667</td>\n      <td>-113.00000</td>\n    </tr>\n    <tr>\n      <th>3</th>\n      <td>10</td>\n      <td>1.0</td>\n      <td>4</td>\n      <td>1914.0</td>\n      <td>NaN</td>\n      <td>1976.0</td>\n      <td>16.88333</td>\n      <td>-99.90000</td>\n    </tr>\n    <tr>\n      <th>4</th>\n      <td>370</td>\n      <td>1.0</td>\n      <td>5</td>\n      <td>780.0</td>\n      <td>NaN</td>\n      <td>1902.0</td>\n      <td>-33.16667</td>\n      <td>-64.95000</td>\n    </tr>\n    <tr>\n      <th>...</th>\n      <td>...</td>\n      <td>...</td>\n      <td>...</td>\n      <td>...</td>\n      <td>...</td>\n      <td>...</td>\n      <td>...</td>\n      <td>...</td>\n    </tr>\n    <tr>\n      <th>45711</th>\n      <td>31356</td>\n      <td>1.0</td>\n      <td>43</td>\n      <td>172.0</td>\n      <td>2.0</td>\n      <td>1990.0</td>\n      <td>29.03700</td>\n      <td>17.01850</td>\n    </tr>\n    <tr>\n      <th>45712</th>\n      <td>30409</td>\n      <td>1.0</td>\n      <td>348</td>\n      <td>46.0</td>\n      <td>2.0</td>\n      <td>1999.0</td>\n      <td>13.78333</td>\n      <td>8.96667</td>\n    </tr>\n    <tr>\n      <th>45713</th>\n      <td>30410</td>\n      <td>1.0</td>\n      <td>11</td>\n      <td>3.3</td>\n      <td>2.0</td>\n      <td>1939.0</td>\n      <td>49.25000</td>\n      <td>17.66667</td>\n    </tr>\n    <tr>\n      <th>45714</th>\n      <td>31357</td>\n      <td>1.0</td>\n      <td>5</td>\n      <td>2167.0</td>\n      <td>2.0</td>\n      <td>2003.0</td>\n      <td>49.78917</td>\n      <td>41.50460</td>\n    </tr>\n    <tr>\n      <th>45715</th>\n      <td>30414</td>\n      <td>1.0</td>\n      <td>49</td>\n      <td>200.0</td>\n      <td>2.0</td>\n      <td>1976.0</td>\n      <td>33.98333</td>\n      <td>-115.68333</td>\n    </tr>\n  </tbody>\n</table>\n<p>38221 rows × 8 columns</p>\n</div>"
          },
          "metadata": {},
          "execution_count": 28
        }
      ],
      "source": [
        "# import the data_cleaning.py where you will need to implement the core functions\n",
        "from data_cleaning import *\n",
        "\n",
        "def data_preparation(df):\n",
        "    #########################################################################\n",
        "    # Implement your functions in data_cleaning.py then call them here\n",
        "    ########################### Your data preparation #######################\n",
        "    \n",
        "    #dropping columns\n",
        "    df = drop_column(df, 'name')\n",
        "    df = drop_column(df , 'GeoLocation')\n",
        "\n",
        "    #correcting ranges\n",
        "    df = remove_row_within_range(df, 'year' , 860 ,2016)\n",
        "    df = remove_row_within_range(df, 'reclat' , -90 ,90)\n",
        "    df = remove_row_within_range(df, 'reclong' , -179.99999 ,180)\n",
        "    \n",
        "    #mapping from dictionaries\n",
        "    #defining dictionaries\n",
        "    dict_fall = {'Fall' : 1 ,'Found': 2}\n",
        "    dict_nametype ={'Valid' : 1, 'Relict' :2}\n",
        "    #replacing from dictionaries\n",
        "    df = remap_values(df,'fall',dict_fall)\n",
        "    df = remap_values(df,'nametype',dict_nametype)\n",
        "\n",
        "    #changing to numbers \n",
        "    df = categorical_to_num(df ,'recclass')\n",
        "    \n",
        "    \n",
        "    #########################################################################\n",
        "    return df\n",
        "\n",
        "df = data_preparation(df)\n",
        "df"
      ]
    },
    {
      "source": [
        "After your data cleaning you should notice many differences between the data before and after your data preparation, for example, less columns, different values. Besides that, the columns data type should be all numerical now (no object type).\n"
      ],
      "cell_type": "markdown",
      "metadata": {}
    },
    {
      "source": [
        "**1.2 Data cleaning \\[5\\]**\n",
        "\n",
        "---"
      ],
      "cell_type": "markdown",
      "metadata": {}
    },
    {
      "source": [
        "While preparing your data you should have noticed some undefined values (or *NaN*) in some fields. Before, they should only be ignored, now we need to handle this. In this second task you should deal with those *NaN* values. At this point, of course, you are allowed to remove rows from the DataFrame:\n",
        "- Implement your *NaN-handling* functions on *data_cleaning.py*\n",
        "- Clean your data (no more *NaNs*)\n",
        "\n",
        "Again, some suggested functions are already predefined on *data_cleaning.py*, however feel free to change it."
      ],
      "cell_type": "markdown",
      "metadata": {}
    },
    {
      "cell_type": "code",
      "execution_count": 29,
      "metadata": {},
      "outputs": [
        {
          "output_type": "execute_result",
          "data": {
            "text/plain": [
              "False"
            ]
          },
          "metadata": {},
          "execution_count": 29
        }
      ],
      "source": [
        "def data_cleaning(df):\n",
        "    #########################################################################\n",
        "    # Implement your functions in data_cleaning.py then call them here\n",
        "    ########################### Your data cleaning ##########################\n",
        "    \n",
        "    #replacing nan from mass\n",
        "    df = replace_nan_with_mean_class(df,'mass','recclass')\n",
        "    \n",
        "    #removing unneccessary rows with nans\n",
        "    df = remove_nan_rows(df , 'nametype')\n",
        "    df = remove_nan_rows(df, 'mass')\n",
        "    df = remove_nan_rows(df ,'fall')\n",
        "\n",
        "\n",
        "    ###########    #df = remove_nan_rows(df ,'year')##############################################################\n",
        "    \n",
        "    return df\n",
        "df = data_cleaning(df)\n",
        "df.isnull().values.any()\n",
        "#df = df.dropna(axis =1)"
      ]
    },
    {
      "source": [
        "If your implementations have worked the output from the code above should be **False** (this call check if the data frame has any NaN/null value)."
      ],
      "cell_type": "markdown",
      "metadata": {}
    }
  ]
}